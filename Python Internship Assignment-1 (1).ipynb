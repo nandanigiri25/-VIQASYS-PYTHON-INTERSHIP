{
 "cells": [
  {
   "cell_type": "markdown",
   "metadata": {},
   "source": [
    "___\n",
    "\n",
    "<a href='https://viqasys.com/wp-content/uploads/2021/07/ns1.png'><img src='https://viqasys.com/wp-content/uploads/2021/07/ns1.png'/></a>\n",
    "___\n",
    "<center><em>Content Copyright VIQASYS INNOVATIONS PVT LTD.</em></center>\n",
    "\n",
    "# Assignment 1"
   ]
  },
  {
   "cell_type": "markdown",
   "metadata": {},
   "source": [
    "# Question 1\n",
    "\n",
    "In the below elements, identify which of them are values or expressions. Values can be integers or strings, while expressions will be mathematical operators or combinations thereof.\n",
    "'hello', \n",
    "-87., ), o, lu, alu, ssion)'(Value))str\" (Value)"
   ]
  },
  {
   "cell_type": "code",
   "execution_count": null,
   "metadata": {},
   "outputs": [],
   "source": [
    "'hello' (string)\n",
    "-87. (floating-point number)\n",
    "o (variable)\n",
    "lu (variable)\n",
    "alu (variable)\n",
    "ssion)'(Value))str\" (string)\n",
    "), (closing parenthesis)\n",
    "'(opening parenthesis)\n",
    "Value (variable)"
   ]
  },
  {
   "cell_type": "markdown",
   "metadata": {},
   "source": [
    "## Question 2\n",
    "\n",
    "Explain the difference between a string and a variable.\n"
   ]
  },
  {
   "cell_type": "code",
   "execution_count": null,
   "metadata": {},
   "outputs": [],
   "source": [
    "A string is a type of data representing textual information in programming. It consists of a sequence of characters, such as letters, numbers, symbols, and spaces, enclosed within single quotes (' ') or double quotes (\" \"). Strings are used to store and manipulate text-based data.\n",
    "\n",
    "A variable is a symbolic name that represents a memory location where data can be stored and accessed within a program. Unlike strings, which are a specific type of data representing text, variables can hold various types of data, including strings. Variables serve as placeholders for storing and managing data of different types throughout the execution of a program."
   ]
  },
  {
   "cell_type": "markdown",
   "metadata": {},
   "source": [
    "## Question 3\n",
    "Describe three different data types commonly used in programming"
   ]
  },
  {
   "cell_type": "code",
   "execution_count": null,
   "metadata": {},
   "outputs": [],
   "source": [
    "Integer (int):\n",
    "An integer is a data type used to represent whole numbers without any decimal or fractional part. Integers can be positive, negative, or zero. In most programming languages, integers have a fixed size, which determines the range of values they can represent. For example, a 32-bit integer can represent values from -2,147,483,648 to 2,147,483,647. Integers are commonly used for counting, indexing, and performing arithmetic operations.\n",
    "\n",
    "String:\n",
    "A string is a data type used to represent a sequence of characters. Characters in a string can include letters, digits, symbols, and whitespace. Strings are typically enclosed within single quotes (' ') or double quotes (\" \"). They are used to store and manipulate textual data, such as names, sentences, or any other type of text-based information. String manipulation operations include concatenation (joining strings together), substring extraction, searching, and replacing.\n",
    "\n",
    "Floating-point (float) / Double-precision floating-point (double):\n",
    "Floating-point numbers are used to represent real numbers with a fractional part. They can represent both integers and fractions. Floats and doubles are distinguished by their precision: floats typically occupy 32 bits of memory and have single precision, while doubles occupy 64 bits and have double precision. Double-precision floating-point numbers offer a larger range and higher precision compared to single-precision floats. Floating-point numbers are commonly used for representing measurements, scientific calculations, and other applications requiring real-number arithmetic."
   ]
  },
  {
   "cell_type": "markdown",
   "metadata": {},
   "source": [
    "## Question 4\n",
    "What is an expression made up of? What is the general purpose of expressions?\n"
   ]
  },
  {
   "cell_type": "code",
   "execution_count": null,
   "metadata": {},
   "outputs": [],
   "source": [
    "An expression in programming is made up of one or more operands and operators, combined in a specific way to produce a value.\n",
    "\n",
    "Operands: These are the data values or variables that are operated on by the operators. Operands can be constants (e.g., numbers or strings) or variables (e.g., x, y).\n",
    "\n",
    "Operators: These are symbols or keywords that perform operations on operands to produce a result. Operators can be arithmetic operators (e.g., + for addition, - for subtraction), logical operators (e.g., AND, OR), comparison operators (e.g., < for less than, == for equal to), assignment operators (e.g., = for assignment), and many others depending on the programming language.\n",
    "\n",
    "Expressions can be simple or complex, depending on the number of operands and operators involved. For example, x + y is a simple expression consisting of two operands (variables x and y) and one operator (+), while 2 * (x + y) - z is a more complex expression involving multiple operands and operators."
   ]
  },
  {
   "cell_type": "markdown",
   "metadata": {},
   "source": [
    "## Question 5\n",
    "\n",
    "Explain the difference between an expression and a statement, using examples if necessary."
   ]
  },
  {
   "cell_type": "code",
   "execution_count": null,
   "metadata": {},
   "outputs": [],
   "source": [
    "Expression:\n",
    "\n",
    "An expression is a piece of code that evaluates to a value.\n",
    "It can be a combination of variables, operators, and function calls that result in a single value.\n",
    "Expressions can be used within statements or other expressions.\n",
    "Examples:\n",
    "5 + 3 (evaluates to 8)\n",
    "x * y (evaluates to the product of variables x and y)\n",
    "math.sqrt(16) (evaluates to 4 if math is a module that provides a square root function)\n",
    "Statement:\n",
    "\n",
    "A statement is a complete instruction that performs some action.\n",
    "It can include expressions but doesn't necessarily have to evaluate to a value.\n",
    "Statements typically perform actions like assignment, control flow (e.g., if, for, while), or function/method calls.\n",
    "Examples:\n",
    "Assignment Statement: x = 5\n",
    "Conditional Statement (if-else):\n",
    "python\n",
    "Copy code\n",
    "if x > 0:\n",
    "    print(\"x is positive\")\n",
    "else:\n",
    "    print(\"x is non-positive\")\n",
    "Loop Statement (for loop):\n",
    "python\n",
    "Copy code\n",
    "for i in range(5):\n",
    "    print(i)"
   ]
  },
  {
   "cell_type": "markdown",
   "metadata": {},
   "source": [
    "## Question 6\n",
    "After running the following code, what does the variable \"bacon\" contain?\n",
    "\n",
    "bacon = 22 <br>\n",
    "\n",
    "bacon + 1"
   ]
  },
  {
   "cell_type": "code",
   "execution_count": 1,
   "metadata": {},
   "outputs": [
    {
     "data": {
      "text/plain": [
       "23"
      ]
     },
     "execution_count": 1,
     "metadata": {},
     "output_type": "execute_result"
    }
   ],
   "source": [
    "bacon = 22\n",
    "\n",
    "bacon + 1"
   ]
  },
  {
   "cell_type": "markdown",
   "metadata": {},
   "source": [
    "## Question 7\n",
    "Determine the values of the following two terms:<br>\n",
    "'spam' + 'spamspam'<br>\n",
    "'spam' * 3\n",
    "\n"
   ]
  },
  {
   "cell_type": "code",
   "execution_count": 2,
   "metadata": {},
   "outputs": [
    {
     "data": {
      "text/plain": [
       "'spamspamspam'"
      ]
     },
     "execution_count": 2,
     "metadata": {},
     "output_type": "execute_result"
    }
   ],
   "source": [
    "'spam' + 'spamspam'\n",
    "'spam' * 3"
   ]
  },
  {
   "cell_type": "markdown",
   "metadata": {},
   "source": [
    "## Question 8\n",
    "\n",
    "Why is \"eggs\" a valid variable name while \"100\" is invalid?"
   ]
  },
  {
   "cell_type": "code",
   "execution_count": null,
   "metadata": {},
   "outputs": [],
   "source": [
    "\"eggs\" is a valid variable name because it starts with a letter and consists of only letters.\n",
    "\"100\" is invalid because it starts with a digit, violating the rule that variable names cannot begin with a digit. However, it could be valid if it starts with a letter or underscore, like \"eggs100\".\n",
    "num_str = \"123\"\n",
    "num_int = int(num_str)  # Converts string to integer\n",
    "Floating-Point Conversion:\n",
    "\n",
    "float(): This function is used to convert a value to a floating-point number. It can convert integers, strings representing numbers, or other numeric types to floating-point numbers.\n",
    "    num_str = \"123.45\"\n",
    "num_float = float(num_str)  # Converts string to floating-point number\n",
    "String Conversion:\n",
    "\n",
    "str(): This function is used to convert a value to a string. It can convert integers, floating-point numbers, booleans, or any other data type to their string representations.\n",
    "    num_int = 123\n",
    "num_float = 123.45\n",
    "num_str_int = str(num_int)  # Converts integer to string\n",
    "num_str_float = str(num_float)  # Converts floating-point number to string"
   ]
  },
  {
   "cell_type": "markdown",
   "metadata": {},
   "source": [
    "## Question 9\n",
    "\n",
    "List three functions that can be used to obtain the integer, floating-point number, or string version of a value."
   ]
  },
  {
   "cell_type": "code",
   "execution_count": null,
   "metadata": {},
   "outputs": [],
   "source": [
    "Integer Conversion:\n",
    "\n",
    "int(): This function is used to convert a value to an integer. If the value passed to int() is a floating-point number, it will be truncated (i.e., decimal part will be removed)."
   ]
  },
  {
   "cell_type": "markdown",
   "metadata": {},
   "source": [
    "## Question 10 \n",
    "Explain why the following expression causes an error and suggest how to fix it:<br>\n",
    "'I have eaten ' + 99 + ' burritos.'\n",
    "\n"
   ]
  },
  {
   "cell_type": "code",
   "execution_count": null,
   "metadata": {},
   "outputs": [],
   "source": [
    "The + operator is used for string concatenation. However, the value 99 is an integer, not a string. In many programming languages, including Python, you cannot directly concatenate a string with an integer without converting the integer to a string first.\n",
    "\n",
    "To fix this error, you need to explicitly convert the integer 99 to a string before concatenating it with other strings. Here's how you can do it:\n",
    "'I have eaten ' + str(99) + ' burritos.'"
   ]
  },
  {
   "cell_type": "markdown",
   "metadata": {},
   "source": [
    "## Question 11\n",
    "Write a Python program to calculate the sum of two numbers and print the result.\n",
    "gative, or zero."
   ]
  },
  {
   "cell_type": "code",
   "execution_count": 4,
   "metadata": {},
   "outputs": [
    {
     "name": "stdout",
     "output_type": "stream",
     "text": [
      "Enter the first number: 1\n",
      "Enter the second number: 2\n",
      "The sum of 1.0 and 2.0 is: 3.0\n"
     ]
    }
   ],
   "source": [
    " #Prompting the user to input the first number\n",
    "num1 = float(input(\"Enter the first number: \"))\n",
    "\n",
    "# Prompting the user to input the second number\n",
    "num2 = float(input(\"Enter the second number: \"))\n",
    "\n",
    "# Calculating the sum of the two numbers\n",
    "sum_of_numbers = num1 + num2\n",
    "\n",
    "# Printing the result\n",
    "print(\"The sum of\", num1, \"and\", num2, \"is:\", sum_of_numbers)"
   ]
  },
  {
   "cell_type": "markdown",
   "metadata": {},
   "source": [
    "## Question 12\n",
    "Create a Python program that takes the user's name as input and prints a greeting message.\n",
    "\n"
   ]
  },
  {
   "cell_type": "code",
   "execution_count": 3,
   "metadata": {},
   "outputs": [
    {
     "name": "stdout",
     "output_type": "stream",
     "text": [
      "Enter your name: nandani\n",
      "Hello, nandani! Welcome to our program.\n"
     ]
    }
   ],
   "source": [
    "# Taking the user's name as input\n",
    "name = input(\"Enter your name: \")\n",
    "\n",
    "# Printing the greeting message\n",
    "print(\"Hello,\", name + \"! Welcome to our program.\")"
   ]
  },
  {
   "cell_type": "markdown",
   "metadata": {},
   "source": [
    "## Question 13\n",
    "Write a Python program to calculate the area of a rectangle given its length and width. (Assume length and width are provided as inputs.)\n",
    "\n"
   ]
  },
  {
   "cell_type": "code",
   "execution_count": 5,
   "metadata": {},
   "outputs": [
    {
     "name": "stdout",
     "output_type": "stream",
     "text": [
      "Enter the length of the rectangle: 23\n",
      "Enter the width of the rectangle: 45\n",
      "The area of the rectangle with length 23.0 and width 45.0 is: 1035.0\n"
     ]
    }
   ],
   "source": [
    "# Taking the length of the rectangle as input\n",
    "length = float(input(\"Enter the length of the rectangle: \"))\n",
    "\n",
    "# Taking the width of the rectangle as input\n",
    "width = float(input(\"Enter the width of the rectangle: \"))\n",
    "\n",
    "# Calculating the area of the rectangle\n",
    "area = length * width\n",
    "\n",
    "# Printing the area of the rectangle\n",
    "print(\"The area of the rectangle with length\", length, \"and width\", width, \"is:\", area)"
   ]
  },
  {
   "cell_type": "markdown",
   "metadata": {},
   "source": [
    "## Question 14\n",
    "Create a Python program that asks the user for their age and prints out a message saying whether they are a child, teenager, or adult based on their age.\n",
    "\n"
   ]
  },
  {
   "cell_type": "code",
   "execution_count": null,
   "metadata": {},
   "outputs": [],
   "source": [
    "def determine_age_category(age):\n",
    "    if age < 13:\n",
    "        return \"child\"\n",
    "    elif age < 20:\n",
    "        return \"teenager\"\n",
    "    else:\n",
    "        return \"adult\"\n",
    "\n",
    "# Taking the user's age as input\n",
    "age = int(input(\"Enter your age: \"))\n",
    "\n",
    "# Determining the age category\n",
    "age_category = determine_age_category(age)\n",
    "\n",
    "# Printing the message based on the age category\n",
    "print(\"You are a\", age_category + \".\")"
   ]
  },
  {
   "cell_type": "markdown",
   "metadata": {},
   "source": [
    "## Question 15\n",
    "Write a Python program to convert temperature from Celsius to Fahrenheit. (Assume Celsius temperature is provided as input.)\n",
    "\n"
   ]
  },
  {
   "cell_type": "code",
   "execution_count": null,
   "metadata": {},
   "outputs": [],
   "source": [
    "def celsius_to_fahrenheit(celsius):\n",
    "    fahrenheit = (celsius * 9/5) + 32\n",
    "    return fahrenheit\n",
    "\n",
    "# Taking the Celsius temperature as input\n",
    "celsius_temp = float(input(\"Enter the temperature in Celsius: \"))\n",
    "\n",
    "# Converting Celsius to Fahrenheit\n",
    "fahrenheit_temp = celsius_to_fahrenheit(celsius_temp)\n",
    "\n",
    "# Printing the converted temperature\n",
    "print(\"Temperature in Fahrenheit:\", fahrenheit_temp)"
   ]
  },
  {
   "cell_type": "markdown",
   "metadata": {},
   "source": [
    "## Question 16\n",
    "Create a Python program that takes the radius of a circle as input and calculates its area. (Assume the value of pi is 3.14.)\n",
    "\n"
   ]
  },
  {
   "cell_type": "code",
   "execution_count": null,
   "metadata": {},
   "outputs": [],
   "source": [
    "def find_maximum(num1, num2):\n",
    "    if num1 > num2:\n",
    "        return num1\n",
    "    else:\n",
    "        return num2\n",
    "\n",
    "# Taking two numbers as input from the user\n",
    "num1 = float(input(\"Enter the first number: \"))\n",
    "num2 = float(input(\"Enter the second number: \"))\n",
    "\n",
    "# Finding the maximum of the two numbers\n",
    "maximum_number = find_maximum(num1, num2)\n",
    "\n",
    "# Printing the maximum number\n",
    "print(\"The maximum of\", num1, \"and\", num2, \"is:\", maximum_number)"
   ]
  },
  {
   "cell_type": "markdown",
   "metadata": {},
   "source": [
    "## Question 17\n",
    "Write a Python program to find the maximum of two numbers entered by the user.\n",
    "\n"
   ]
  },
  {
   "cell_type": "code",
   "execution_count": null,
   "metadata": {},
   "outputs": [],
   "source": [
    "# Taking the first number as input from the user\n",
    "num1 = float(input(\"Enter the first number: \"))\n",
    "\n",
    "# Taking the second number as input from the user\n",
    "num2 = float(input(\"Enter the second number: \"))\n",
    "\n",
    "# Calculating the product of the two numbers\n",
    "product = num1 * num2\n",
    "\n",
    "# Printing the product\n",
    "print(\"The product of\", num1, \"and\", num2, \"is:\", product)"
   ]
  },
  {
   "cell_type": "markdown",
   "metadata": {},
   "source": [
    "## Question 18\n",
    "Create a Python program that asks the user to enter two numbers and prints out their product.\n",
    "\n"
   ]
  },
  {
   "cell_type": "code",
   "execution_count": null,
   "metadata": {},
   "outputs": [],
   "source": [
    "# Assuming the value of pi\n",
    "pi = 3.14\n",
    "\n",
    "# Taking the radius of the circle as input from the user\n",
    "radius = float(input(\"Enter the radius of the circle: \"))\n",
    "\n",
    "# Calculating the area of the circle using the formula: area = pi * radius^2\n",
    "area = pi * radius ** 2\n",
    "\n",
    "# Printing the calculated area\n",
    "print(\"The area of the circle with radius\", radius, \"is:\", area)"
   ]
  },
  {
   "cell_type": "markdown",
   "metadata": {},
   "source": [
    "## Question 19\n",
    "Write a Python program that prompts the user to enter a number and then prints whether the number is positive, negative, or zero."
   ]
  },
  {
   "cell_type": "code",
   "execution_count": null,
   "metadata": {},
   "outputs": [],
   "source": [
    "# Prompting the user to enter a number\n",
    "number = float(input(\"Enter a number: \"))\n",
    "\n",
    "# Checking if the number is positive, negative, or zero\n",
    "if number > 0:\n",
    "    print(\"The number is positive.\")\n",
    "elif number < 0:\n",
    "    print(\"The number is negative.\")\n",
    "else:\n",
    "    print(\"The number is zero.\")"
   ]
  }
 ],
 "metadata": {
  "anaconda-cloud": {},
  "kernelspec": {
   "display_name": "Python 3 (ipykernel)",
   "language": "python",
   "name": "python3"
  },
  "language_info": {
   "codemirror_mode": {
    "name": "ipython",
    "version": 3
   },
   "file_extension": ".py",
   "mimetype": "text/x-python",
   "name": "python",
   "nbconvert_exporter": "python",
   "pygments_lexer": "ipython3",
   "version": "3.11.5"
  }
 },
 "nbformat": 4,
 "nbformat_minor": 4
}
